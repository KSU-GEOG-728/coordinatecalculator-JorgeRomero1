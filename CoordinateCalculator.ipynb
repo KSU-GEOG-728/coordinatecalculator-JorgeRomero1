{
 "cells": [
  {
   "cell_type": "markdown",
   "id": "1b31be22",
   "metadata": {},
   "source": [
    "# Geographic Coordinate Converter\n",
    "\n",
    "Converts a geographic coordinate in DDMMSS format to DD"
   ]
  },
  {
   "cell_type": "markdown",
   "id": "220c42ad",
   "metadata": {},
   "source": [
    "Step 1 - Use the Python input function to prompt a user to enter a geographic coordinate in DDMMSS format (e.g., 391120)."
   ]
  },
  {
   "cell_type": "code",
   "execution_count": 1,
   "id": "16f5440b",
   "metadata": {},
   "outputs": [
    {
     "name": "stdout",
     "output_type": "stream",
     "text": [
      "Please enter a coordinate in DDMMSS format:  391120\n"
     ]
    }
   ],
   "source": [
    "x = input(\"Please enter a coordinate in DDMMSS format: \")"
   ]
  },
  {
   "cell_type": "markdown",
   "id": "50c7e956",
   "metadata": {},
   "source": [
    "Step 2 - Determine the data type of x and print its value before moving forward."
   ]
  },
  {
   "cell_type": "code",
   "execution_count": 2,
   "id": "2a5030b7",
   "metadata": {},
   "outputs": [
    {
     "data": {
      "text/plain": [
       "str"
      ]
     },
     "execution_count": 2,
     "metadata": {},
     "output_type": "execute_result"
    }
   ],
   "source": [
    "type(x)"
   ]
  },
  {
   "cell_type": "markdown",
   "id": "7f260519-881c-4946-b47f-290a82bc844f",
   "metadata": {},
   "source": [
    "### Check if the input value matches the follow requirements:\n",
    "* The input contains digits\n",
    "* The length of the input is 6"
   ]
  },
  {
   "cell_type": "code",
   "execution_count": 3,
   "id": "57ec8fc2-f8ff-46cf-8d54-c5e240592bab",
   "metadata": {},
   "outputs": [
    {
     "name": "stdout",
     "output_type": "stream",
     "text": [
      "The coordinates will be calculated in the next cell\n"
     ]
    }
   ],
   "source": [
    "if len(x) != 6 and x.isnumeric():\n",
    "    print(f'Try again, your input must have 6 digits not {len(x)}.')\n",
    "elif len(x) == 6 and not x.isnumeric():\n",
    "    print('Try again, Special characters and letters are not allowed')\n",
    "elif len(x) !=6  and not x.isnumeric():\n",
    "    print(f'Try again, your input should have 6 digits not {len(x)}, special characters and letters are not allowed')\n",
    "else:\n",
    "    print('The coordinates will be calculated in the next cell')"
   ]
  },
  {
   "cell_type": "markdown",
   "id": "3a9b6da4-bbbf-4121-b097-9b895ddb8341",
   "metadata": {},
   "source": [
    "Extract the Degrees, Minutes, and Seconds from the input and conver them to integers in order to apply mathematical operations. "
   ]
  },
  {
   "cell_type": "code",
   "execution_count": 4,
   "id": "ab9edae8-9adf-4514-b60a-beea343557b4",
   "metadata": {},
   "outputs": [],
   "source": [
    "DE = int(x[:2])\n",
    "MM = int(x[2:4])\n",
    "SS = int(x[-2:])"
   ]
  },
  {
   "cell_type": "markdown",
   "id": "cf3f003d-3b62-416b-b0d3-79cd41ca4338",
   "metadata": {},
   "source": [
    "Calculate and print the coordinates in decimal degrees rounded to 2 digits. "
   ]
  },
  {
   "cell_type": "code",
   "execution_count": 5,
   "id": "67f61560-3137-4c75-a53b-4ab050a50eeb",
   "metadata": {},
   "outputs": [
    {
     "name": "stdout",
     "output_type": "stream",
     "text": [
      "Yrur final result is 39.19 degrees.\n"
     ]
    }
   ],
   "source": [
    "DD = round(DE + (MM + SS/60)/60,2)\n",
    "print('Your final result is {0}'.format(DD), 'degrees.')"
   ]
  },
  {
   "cell_type": "markdown",
   "id": "d97e47b7-90e3-434b-8c0c-ffdd115d6279",
   "metadata": {},
   "source": [
    "## Coordinate conventer in one cell:"
   ]
  },
  {
   "cell_type": "code",
   "execution_count": null,
   "id": "26af59fa-6bdf-41f3-b69d-1484a099f226",
   "metadata": {},
   "outputs": [
    {
     "name": "stdout",
     "output_type": "stream",
     "text": [
      "Please enter a coordinate in DDMMSS format:  391120\n"
     ]
    },
    {
     "name": "stdout",
     "output_type": "stream",
     "text": [
      "Your final result is 39.19 degrees\n"
     ]
    }
   ],
   "source": [
    "x = input(\"Please enter a coordinate in DDMMSS format: \")\n",
    "\n",
    "if len(x) != 6 and x.isnumeric():\n",
    "    print(f'Try again, your input must have 6 digits not {len(x)}.')\n",
    "elif len(x) == 6 and not x.isnumeric():\n",
    "    print('Try again, special characters and letters are not allowed.')\n",
    "elif len(x) !=6  and not x.isnumeric():\n",
    "    print(f'Try again, your input should have 6 digits not {len(x)}, special characters and letters are not allowed.')\n",
    "else:\n",
    "    DE = int(x[:2])\n",
    "    MM = int(x[2:4])\n",
    "    SS = int(x[-2:])\n",
    "    DD = round(DE + (MM + SS/60)/60,2)\n",
    "    print(f'Your final result is {DD} degrees')"
   ]
  }
 ],
 "metadata": {
  "kernelspec": {
   "display_name": "Python 3 (ipykernel)",
   "language": "python",
   "name": "python3"
  },
  "language_info": {
   "codemirror_mode": {
    "name": "ipython",
    "version": 3
   },
   "file_extension": ".py",
   "mimetype": "text/x-python",
   "name": "python",
   "nbconvert_exporter": "python",
   "pygments_lexer": "ipython3",
   "version": "3.12.4"
  }
 },
 "nbformat": 4,
 "nbformat_minor": 5
}
